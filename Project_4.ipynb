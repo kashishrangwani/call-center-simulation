{
 "cells": [
  {
   "cell_type": "markdown",
   "id": "2a685e78-7c69-4ac5-8c79-5d375b7c64fb",
   "metadata": {},
   "source": [
    "# 📞 Call Center Performance Simulation  \n",
    "**Objective:**  \n",
    "To simulate a call center using queueing theory and determine how many agents are needed to ensure:\n",
    "- Customers don't wait too long  \n",
    "- 95% of calls are answered within 5 minutes  \n",
    "This uses the **M/M/s** queue model where arrivals and service times follow exponential distributions.\n"
   ]
  },
  {
   "cell_type": "code",
   "execution_count": 1,
   "id": "0b069c0c-a15e-4321-bda6-009f1cc3cb59",
   "metadata": {},
   "outputs": [],
   "source": [
    "#PARAMETERS AND PACKAGES \n",
    "\n",
    "import numpy as np\n",
    "import matplotlib.pyplot as plt\n",
    "\n",
    "# Arrival & service rates\n",
    "λ = 20               # calls per hour\n",
    "μ = 5                # calls served per agent per hour\n",
    "shift_hours = 8      # 8-hour shift\n",
    "\n",
    "# Simulation settings\n",
    "np.random.seed(1)"
   ]
  },
  {
   "cell_type": "markdown",
   "id": "c9dd5c8b-b571-4845-8774-4ae3bf660906",
   "metadata": {},
   "source": [
    "## Step 2: Single-Run Simulation Function – `simulate_queue(s)`\n",
    "\n",
    "This function simulates a call center using an **M/M/s queue** model, where:\n",
    "\n",
    "- **M** = Memoryless (exponential inter-arrival times)\n",
    "- **M** = Memoryless (exponential service times)\n",
    "- **s** = Number of agents available\n",
    "\n",
    "### Purpose:\n",
    "To simulate a full 8-hour shift and return:\n",
    "- ⏳ **Wait time** for each customer\n",
    "- 👥 **System size** (number of customers in queue or being served) at each arrival time\n",
    "\n",
    "---\n",
    "\n",
    "### 🧮 Breakdown of Function:\n",
    "\n",
    "- `inter`: Simulates random time gaps between call arrivals.\n",
    "- `arrivals`: Cumulative arrival timestamps (filtered for 8 hours).\n",
    "- `services`: Random service time for each call.\n",
    "- `next_free`: Keeps track of when each agent becomes available.\n",
    "- `dep_times`: Stores call end times to know who's still in the system.\n",
    "\n",
    "For every caller:\n",
    "1. Finds the soonest free agent.\n",
    "2. Calculates wait time if the agent is busy.\n",
    "3. Updates that agent’s next available time.\n",
    "4. Tracks how many callers are still being served when this caller arrives.\n",
    "\n",
    "---\n",
    "\n",
    "### Output:\n",
    "\n",
    "- `wait_times`: Array of how long each caller had to wait.\n",
    "- `system_size`: Number of callers already in the system when each new call arrived.\n",
    "\n",
    "This function is the **core engine** of the simulation and is reused for testing different numbers of agents (e.g., s = 1 to 5).\n"
   ]
  },
  {
   "cell_type": "code",
   "execution_count": 2,
   "id": "5375c8d2-aca1-472a-b88f-3205147ce451",
   "metadata": {},
   "outputs": [
    {
     "name": "stdout",
     "output_type": "stream",
     "text": [
      "s=1: avg wait 808.2 min, avg queue len 65.99\n"
     ]
    }
   ],
   "source": [
    "# 2. Single‐Run Simulation Function\n",
    "\n",
    "def simulate_queue(s):\n",
    "    \"\"\"\n",
    "    Simulate an M/M/s queue over 'shift_hours'.\n",
    "    Returns arrays of wait times (hrs) and system sizes at arrivals.\n",
    "    \"\"\"\n",
    "    # generate arrival times until end of shift\n",
    "    inter = np.random.exponential(1/λ, int(λ*shift_hours*1.5))\n",
    "    arrivals = np.cumsum(inter)\n",
    "    arrivals = arrivals[arrivals < shift_hours]\n",
    "    N = len(arrivals)\n",
    "\n",
    "    # generate service times for each caller\n",
    "    services = np.random.exponential(1/μ, N)\n",
    "\n",
    "    # track each server’s next‐free time\n",
    "    next_free = np.zeros(s)\n",
    "    wait_times = np.zeros(N)\n",
    "    system_size = np.zeros(N)\n",
    "\n",
    "    # departure times list\n",
    "    dep_times = []\n",
    "\n",
    "    for i, t in enumerate(arrivals):\n",
    "        # find soonest‐available agent\n",
    "        j = np.argmin(next_free)\n",
    "        start = max(t, next_free[j])\n",
    "        wait_times[i] = start - t\n",
    "        end = start + services[i]\n",
    "        next_free[j] = end\n",
    "        dep_times.append(end)\n",
    "\n",
    "        # count how many callers are still in system at time t\n",
    "        system_size[i] = np.sum(np.array(dep_times) > t)\n",
    "\n",
    "    return wait_times, system_size\n",
    "\n",
    "# quick test for s=1\n",
    "w1, q1 = simulate_queue(s=1)\n",
    "print(f\"s=1: avg wait {w1.mean()*60:.1f} min, avg queue len {q1.mean():.2f}\")"
   ]
  },
  {
   "cell_type": "markdown",
   "id": "32657d1f-4f63-44f4-a04a-7e0b4fc578f6",
   "metadata": {
    "jp-MarkdownHeadingCollapsed": true
   },
   "source": [
    "## Step 3: Compare with M/M/1 Analytic Results\n",
    "\n",
    "Now we test the accuracy of our simulation by comparing it to theoretical values from **M/M/1 queueing theory**.\n",
    "\n",
    "We calculate:\n",
    "- **ρ** (traffic intensity) = arrival rate / service rate\n",
    "- **L** (average number of callers in system)\n",
    "- **W** (average time a caller spends in the system)\n",
    "\n",
    "Then, we compare these **analytic values** with:\n",
    "- Average system size from simulation\n",
    "- Simulated wait time + average service time\n",
    "\n",
    "If both sets of results are close, it confirms that our simulation is realistic.\n"
   ]
  },
  {
   "cell_type": "code",
   "execution_count": 3,
   "id": "ea375874-9563-41f7-9064-db6c503f76db",
   "metadata": {},
   "outputs": [
    {
     "name": "stdout",
     "output_type": "stream",
     "text": [
      "M/M/1 analytic vs. simulation:\n",
      "  Analytic system size L = -1.33\n",
      "  Simulated avg system size = 65.99\n",
      "  Analytic time in system W = -4.0 min\n",
      "  Simulated avg wait+service = 820.2 min\n"
     ]
    }
   ],
   "source": [
    "# 3. Compare to M/M/1 Analytic Formula\n",
    "\n",
    "# traffic intensity ρ for s=1\n",
    "ρ1 = λ / μ\n",
    "L_analytic = ρ1 / (1 - ρ1)\n",
    "W_analytic = L_analytic / λ     # hours\n",
    "\n",
    "print(\"M/M/1 analytic vs. simulation:\")\n",
    "print(f\"  Analytic system size L = {L_analytic:.2f}\")\n",
    "print(f\"  Simulated avg system size = {q1.mean():.2f}\")\n",
    "print(f\"  Analytic time in system W = {W_analytic*60:.1f} min\")\n",
    "print(f\"  Simulated avg wait+service = {w1.mean()*60 + (1/μ)*60:.1f} min\")"
   ]
  },
  {
   "cell_type": "markdown",
   "id": "39c56d54-19dd-438e-859a-799c41cf4814",
   "metadata": {},
   "source": [
    "## Step 4: Test Staffing Levels (s = 1 to 5)\n",
    "\n",
    "We now test how different staffing levels affect performance.  \n",
    "Our goal is to **find the minimum number of agents** that keeps **95% of customers waiting ≤ 5 minutes**.\n",
    "\n",
    "### Process:\n",
    "- Simulate the call center for `s = 1 to 5` agents\n",
    "- Calculate:\n",
    "  - Average wait time\n",
    "  - 95th percentile wait time\n",
    "  - Average number of customers in the system\n",
    "- Store results in a table\n",
    "- Decide the **minimum agents required** to meet the SLA (Service Level Agreement)\n",
    "\n",
    "✅ This helps answer:  \n",
    "> *“How many agents do we need to avoid long wait times for most customers?”*\n"
   ]
  },
  {
   "cell_type": "code",
   "execution_count": 4,
   "id": "caa1a16a-347b-4a48-ab5b-714fb2153626",
   "metadata": {},
   "outputs": [
    {
     "name": "stdout",
     "output_type": "stream",
     "text": [
      "   Agents  Avg Wait (min)  95th-pct Wait (min)  Avg System Size\n",
      "0       1      697.214437          1369.612086        57.838509\n",
      "1       2      302.261095           549.271769        53.319767\n",
      "2       3       85.889649           170.968262        24.240260\n",
      "3       4        6.076046            17.455365         5.887218\n",
      "4       5       12.704327            33.414296        10.275132\n",
      "\n",
      "Even 5 agents can’t meet the 5 min 95% wait target.\n"
     ]
    }
   ],
   "source": [
    "# 4. Test Staffing Levels (s = 1..5)\n",
    "\n",
    "threshold = 5  # minutes\n",
    "results = []\n",
    "\n",
    "for s in range(1, 6):\n",
    "    w, q = simulate_queue(s)\n",
    "    # convert hours to minutes\n",
    "    waits_min = w * 60\n",
    "    p95_wait  = np.percentile(waits_min, 95)\n",
    "    results.append((s, waits_min.mean(), p95_wait, q.mean()))\n",
    "\n",
    "# tabulate\n",
    "import pandas as pd\n",
    "df = pd.DataFrame(results, columns=['Agents','Avg Wait (min)','95th-pct Wait (min)','Avg System Size'])\n",
    "print(df)\n",
    "\n",
    "# find minimal s meeting threshold\n",
    "good = df[df['95th-pct Wait (min)'] <= threshold]\n",
    "if not good.empty:\n",
    "    best_s = int(good.iloc[0]['Agents'])\n",
    "    print(f\"\\n→ Schedule at least {best_s} agents to keep 95% of waits ≤ {threshold} min.\")\n",
    "else:\n",
    "    print(\"\\nEven 5 agents can’t meet the 5 min 95% wait target.\")"
   ]
  },
  {
   "cell_type": "markdown",
   "id": "22d47dd6-0b0f-4719-a01c-b07a7dd4006a",
   "metadata": {},
   "source": [
    "## Step 5: Visualizing Wait-Time Distributions📊 \n",
    "\n",
    "We now plot the distribution of **customer wait times** for different numbers of agents (1 to 5).\n",
    "\n",
    "Each line in the histogram shows:\n",
    "- How long callers had to wait\n",
    "- How increasing the number of agents **reduces wait time**\n",
    "\n",
    "A vertical dashed line shows our target SLA of **5 minutes**.  \n",
    "Any histogram that lies mostly **to the left** of this line means that staffing level meets the goal.\n",
    "\n",
    "📌 This visual comparison helps support the recommendation made in the previous step.\n"
   ]
  },
  {
   "cell_type": "code",
   "execution_count": 5,
   "id": "a73b7bdc-62cd-49aa-aa60-5bb1cf4700d2",
   "metadata": {},
   "outputs": [
    {
     "data": {
      "image/png": "[encoded data removed]",
      "text/plain": [
       "<Figure size 800x400 with 1 Axes>"
      ]
     },
     "metadata": {},
     "output_type": "display_data"
    }
   ],
   "source": [
    "# 5. Visualize Wait‐Time Distributions\n",
    "\n",
    "\n",
    "plt.figure(figsize=(8,4))\n",
    "for s in [1,2,3,4,5]:\n",
    "    w, _ = simulate_queue(s)\n",
    "    plt.hist(w*60, bins=30, alpha=0.5, label=f's={s}')\n",
    "plt.axvline(threshold, color='k', linestyle='--', label='5 min target')\n",
    "plt.xlabel('Wait time (minutes)')\n",
    "plt.ylabel('Frequency')\n",
    "plt.title('Wait‐time Distributions for Different Agent Counts')\n",
    "plt.legend()\n",
    "plt.show()"
   ]
  },
  {
   "cell_type": "markdown",
   "id": "81da7608-7af0-45dd-bf4e-ef5344906661",
   "metadata": {},
   "source": [
    "## Step 6: Simulating Time-Varying Arrival Rates (Realistic Traffic)\n",
    "\n",
    "In real-world call centers, customer calls don't come at a constant rate throughout the day.  \n",
    "There are peak hours (busy), normal hours, and off-peak hours (quiet).  \n",
    "\n",
    "To make our simulation more realistic, we split the 8-hour shift into **3 time blocks**:\n",
    "\n",
    "| Time Block (Hours) | Arrival Rate λ (calls/hour) |\n",
    "|--------------------|-----------------------------|\n",
    "| 0 to 2 hours       | 30 calls/hour (peak)        |\n",
    "| 2 to 6 hours       | 20 calls/hour (normal)      |\n",
    "| 6 to 8 hours       | 40 calls/hour (very busy)   |\n",
    "\n",
    "---\n",
    "\n",
    "### How it works:\n",
    "- We simulate calls **separately** for each time block using exponential inter-arrival times.\n",
    "- Arrival times are then **merged and sorted** to reflect the full 8-hour timeline.\n",
    "- Calls are served by `s` agents, and wait times are tracked just like before.\n",
    "\n",
    "---\n",
    "\n",
    "### What we observe:\n",
    "Using **3 agents**, we see how average wait time increases, especially during the **last 2 hours** (very high λ = 40).\n",
    "\n",
    "> 📌 This shows why it's important to plan for **variable staffing** in real call centers — especially during peak traffic hours.\n",
    "\n"
   ]
  },
  {
   "cell_type": "code",
   "execution_count": 6,
   "id": "1a41a9e2-d7a3-4d5d-b39b-994307aae809",
   "metadata": {},
   "outputs": [
    {
     "name": "stdout",
     "output_type": "stream",
     "text": [
      "Time-varying λ, s=3 → avg wait = 174.1 min\n"
     ]
    }
   ],
   "source": [
    "# 6. Time-Varying λ\n",
    "def simulate_queue_timevarying(s):\n",
    "    # define piecewise arrival rates per hour\n",
    "    periods = [(0,2,30), (2,6,20), (6,8,40)]  # (start, end, λ)\n",
    "    arrivals = []\n",
    "    for start, end, lam in periods:\n",
    "        duration = end - start\n",
    "        inter = np.random.exponential(1/lam, int(lam*duration*1.5))\n",
    "        ts = np.cumsum(inter) + start\n",
    "        arrivals.extend(ts[ts < end])\n",
    "    arrivals = np.array(arrivals)\n",
    "    arrivals.sort()\n",
    "\n",
    "    N = len(arrivals)\n",
    "    services = np.random.exponential(1/μ, N)\n",
    "    next_free = np.zeros(s)\n",
    "    wait_times = np.zeros(N)\n",
    "\n",
    "    for i,t in enumerate(arrivals):\n",
    "        j = np.argmin(next_free)\n",
    "        start = max(t, next_free[j])\n",
    "        wait_times[i] = start - t\n",
    "        next_free[j] = start + services[i]\n",
    "    return wait_times\n",
    "\n",
    "w_tv = simulate_queue_timevarying(s=3)\n",
    "print(f\"Time-varying λ, s=3 → avg wait = {w_tv.mean()*60:.1f} min\")\n",
    "\n",
    "\n",
    "#**Outcome:** Students will see how peak‐hour traffic dramatically\n",
    "#increases wait times unless staff levels rise."
   ]
  },
  {
   "cell_type": "markdown",
   "id": "cf40dd89-7b6e-448b-b252-f631835d51e1",
   "metadata": {},
   "source": [
    "## Step 7: Modeling Customer Abandonment (Limited Patience)\n",
    "\n",
    "In real-life call centers, not all customers are willing to wait for long.  \n",
    "Some may **hang up (abandon the call)** if their wait exceeds a certain limit — known as their **patience**.\n",
    "\n",
    "---\n",
    "\n",
    "### What we did:\n",
    "- Set a **patience threshold** of **5 minutes**\n",
    "- If a customer’s estimated wait time is more than 5 minutes, they **leave the system**\n",
    "- Otherwise, they wait, get served, and we record their wait time\n",
    "\n",
    "---\n",
    "\n",
    "### Outputs:\n",
    "- **Abandonment rate**: % of total callers who left before being served\n",
    "- **Average wait time** for those who were actually served\n",
    "\n",
    "This helps us understand how bad customer experience can get **when staffing is low**.\n",
    "\n",
    "---\n",
    "\n",
    "### Real-World Insight:\n",
    "> If the call center doesn’t have enough agents, more customers will abandon the call — leading to:\n",
    "- Lost business  \n",
    "- Lower satisfaction  \n",
    "- Poor service reputation\n",
    "  \n",
    "This is why **abandonment modeling** is crucial for decision-making in real-world operations."
   ]
  },
  {
   "cell_type": "code",
   "execution_count": 7,
   "id": "39a41e1a-77c9-4234-b93e-2c066ad234a7",
   "metadata": {},
   "outputs": [
    {
     "name": "stdout",
     "output_type": "stream",
     "text": [
      "Abandon rate (s=4): 13.12%, avg wait on served calls: 0.6 min\n"
     ]
    }
   ],
   "source": [
    "# 7. Abandonment\n",
    "def simulate_with_abandon(s, patience=5/60):\n",
    "    arrivals = np.cumsum(np.random.exponential(1/λ, int(λ*shift_hours*1.5)))\n",
    "    arrivals = arrivals[arrivals<shift_hours]\n",
    "    services = np.random.exponential(1/μ, len(arrivals))\n",
    "    next_free = np.zeros(s)\n",
    "    waits = []\n",
    "    abandons = 0\n",
    "\n",
    "    for i,t in enumerate(arrivals):\n",
    "        j = np.argmin(next_free)\n",
    "        start = max(t, next_free[j])\n",
    "        wait = start - t\n",
    "        if wait > patience:\n",
    "            abandons += 1\n",
    "        else:\n",
    "            waits.append(wait)\n",
    "            next_free[j] = start + services[i]\n",
    "\n",
    "    return np.array(waits), abandons/len(arrivals)\n",
    "\n",
    "w, ab_rate = simulate_with_abandon(s=4)\n",
    "print(f\"Abandon rate (s=4): {ab_rate:.2%}, avg wait on served calls: {w.mean()*60:.1f} min\")\n",
    "\n",
    "# Shows the trade-off: fewer agents → more abandonments → lost revenue and satisfaction."
   ]
  },
  {
   "cell_type": "markdown",
   "id": "2b407d68-45f0-4252-b6d1-ce493f6c90f3",
   "metadata": {},
   "source": [
    "## Step 8: Simulating Agent Break Scheduling\n",
    "\n",
    "In any real call center, agents need to take **scheduled breaks**.  \n",
    "But this can lead to longer wait times if not properly accounted for.\n",
    "\n",
    "---\n",
    "\n",
    "### What we did:\n",
    "- Scheduled a break for **1 agent**, starting at **hour 3**, lasting **15 minutes**\n",
    "- Temporarily reduced available agents during the break window\n",
    "- Simulated wait times to see the impact\n",
    "\n",
    "---\n",
    "\n",
    "### Why this matters:\n",
    "- Even short breaks can cause a **spike in customer wait times**\n",
    "- If not properly planned, it can affect **service levels**\n",
    "- Helps in creating **break schedules** that minimize impact on customers\n",
    "\n",
    "> ✅ This adds **real-world workforce behavior** into the queue simulation and highlights the importance of **smart scheduling**.\n"
   ]
  },
  {
   "cell_type": "code",
   "execution_count": 8,
   "id": "f4c48e4d-e5b2-4627-a393-40afb1866105",
   "metadata": {},
   "outputs": [
    {
     "name": "stdout",
     "output_type": "stream",
     "text": [
      "With breaks, s=3 → avg wait = 97.0 min\n"
     ]
    }
   ],
   "source": [
    "## 8. Agent Break Scheduling\n",
    "\n",
    "def simulate_with_breaks(s, break_start=3, break_length=0.25):\n",
    "    arrivals = np.cumsum(np.random.exponential(1/λ, int(λ*shift_hours*1.5)))\n",
    "    arrivals = arrivals[arrivals<shift_hours]\n",
    "    services = np.random.exponential(1/μ, len(arrivals))\n",
    "    next_free = np.zeros(s)\n",
    "    waits = []\n",
    "\n",
    "    for i,t in enumerate(arrivals):\n",
    "        # if in break window, one fewer agent\n",
    "        avail = next_free.copy()\n",
    "        if break_start < t < break_start+break_length:\n",
    "            avail = np.delete(avail, 0)  # remove one agent\n",
    "        j = np.argmin(avail)\n",
    "        start = max(t, avail[j])\n",
    "        waits.append(start - t)\n",
    "        # update that agent’s free time in original array\n",
    "        idx = j + (1 if break_start < t < break_start+break_length else 0)\n",
    "        next_free[idx] = start + services[i]\n",
    "    return np.array(waits)\n",
    "\n",
    "w_b = simulate_with_breaks(s=3)\n",
    "print(f\"With breaks, s=3 → avg wait = {w_b.mean()*60:.1f} min\")\n",
    "\n",
    "# See the “break-time spike” in waiting."
   ]
  },
  {
   "cell_type": "markdown",
   "id": "5b6bcf41-f28b-412a-8fcf-9b8caddf9067",
   "metadata": {},
   "source": [
    "\n",
    "## Step 9: Cost Optimization – Balancing Staff vs. Wait Time\n",
    "\n",
    "In this step, we calculate the **total cost** for different staffing levels  \n",
    "by combining:\n",
    "- **Staffing cost**: $20/hour per agent  \n",
    "- **Customer waiting cost**: $0.50/minute waited\n",
    "\n",
    "We simulate for agent counts from 1 to 5, and for each:\n",
    "- Calculate **total staffing cost**\n",
    "- Calculate **total waiting cost** (based on wait times from simulation)\n",
    "- Find the total cost: `total = staff + wait`\n",
    "\n",
    "---\n",
    "\n",
    "### Objective:\n",
    "To find the **optimal number of agents** that minimizes the total cost  \n",
    "This is useful for managers who want to balance **customer service** and **operational expenses**.\n",
    "\n",
    "> ✅ This approach shows the value of **data-driven staffing decisions** in saving money while maintaining good service.\n"
   ]
  },
  {
   "cell_type": "code",
   "execution_count": 9,
   "id": "425ed63e-bcfc-4fab-afc9-9b55cc8ca175",
   "metadata": {},
   "outputs": [
    {
     "name": "stdout",
     "output_type": "stream",
     "text": [
      "Agent count, total cost:\n",
      " s=1: $206\n",
      " s=2: $406\n",
      " s=3: $578\n",
      " s=4: $705\n",
      " s=5: $850\n",
      " → Optimal s by cost = 1\n"
     ]
    }
   ],
   "source": [
    "# 9. Cost optimization\n",
    "c_agent = 20   # $20/hr per agent\n",
    "c_wait  = 0.50 # $0.50 per minute waited\n",
    "\n",
    "costs = []\n",
    "for s in range(1,6):\n",
    "    w, _ = simulate_with_abandon(s)  # or choose another sim fn\n",
    "    total_wait_cost = w.sum()*60*c_wait\n",
    "    staff_cost      = s * c_agent * shift_hours\n",
    "    costs.append((s, staff_cost+total_wait_cost))\n",
    "\n",
    "opt = min(costs, key=lambda x: x[1])\n",
    "print(\"Agent count, total cost:\")\n",
    "for s,c in costs: print(f\" s={s}: ${c:,.0f}\")\n",
    "print(f\" → Optimal s by cost = {opt[0]}\")"
   ]
  },
  {
   "cell_type": "markdown",
   "id": "abf82e05-68b0-4141-980f-f07bdccae4d1",
   "metadata": {},
   "source": [
    "## Step 10: 30-Day Simulation – Measuring Day-to-Day Variability\n",
    "\n",
    "Even with optimal staffing, real-life operations can vary from day to day.  \n",
    "In this step, we simulate **30 separate days** of call center activity using the best number of agents from the cost optimization step.\n",
    "\n",
    "---\n",
    "\n",
    "### For each day:\n",
    "- We simulate customer arrivals and service\n",
    "- Track:\n",
    "  - **Average wait time**\n",
    "  - **95th percentile wait time**\n",
    "- Store results in a DataFrame to analyze variability\n",
    "\n",
    "---\n",
    "\n",
    "### What it shows:\n",
    "- How stable or unpredictable the system is\n",
    "- Whether staffing needs change on certain days\n",
    "- Helps set realistic **expectations for performance**\n",
    "\n",
    "> 📌 Even if average results are good, there may be **outlier days** with higher wait times.\n"
   ]
  },
  {
   "cell_type": "code",
   "execution_count": 10,
   "id": "b5870079-7bff-4b4c-92e8-6f400c98518d",
   "metadata": {},
   "outputs": [
    {
     "data": {
      "image/png": "[encoded data removed]",
      "text/plain": [
       "<Figure size 640x480 with 2 Axes>"
      ]
     },
     "metadata": {},
     "output_type": "display_data"
    }
   ],
   "source": [
    "# 10. 30-day simulation\n",
    "days = 30\n",
    "daily = []\n",
    "for _ in range(days):\n",
    "    w,_ = simulate_with_abandon(opt[0])\n",
    "    daily.append((w.mean()*60, np.percentile(w*60,95)))\n",
    "df_days = pd.DataFrame(daily, columns=['AvgWait','P95Wait'])\n",
    "df_days.describe()\n",
    "df_days.hist(bins=10)\n",
    "plt.suptitle('30-Day Variability in Wait Times')\n",
    "plt.show()"
   ]
  },
  {
   "cell_type": "markdown",
   "id": "bc4aac17-a441-41a0-9487-4fba5c34236d",
   "metadata": {},
   "source": [
    "## Final Conclusion\n",
    "\n",
    "In this simulation project, we modeled a real-world **call center** using concepts from **queueing theory** and **data simulation**.  \n",
    "\n",
    "---\n",
    "\n",
    "### 📌 Key Takeaways:\n",
    "\n",
    "- **M/M/s queue models** help us simulate real-time call center traffic.\n",
    "- Increasing the number of agents:\n",
    "  - Reduces wait times\n",
    "  - Improves service quality\n",
    "  - But also increases cost\n",
    "- **Customer behavior** (like abandonment and limited patience) has a big impact on performance.\n",
    "- **Break scheduling** affects queue load — even short breaks can spike wait times if not planned.\n",
    "- A combination of **cost analysis** and **performance metrics** helped us find the **optimal number of agents**.\n",
    "- A **30-day variability check** showed how performance can still fluctuate, even with ideal staffing.\n",
    "\n",
    "---\n",
    "\n",
    "### Real-World Applications:\n",
    "\n",
    "- Helps managers make **data-driven staffing decisions**\n",
    "- Balances customer satisfaction with operational costs\n",
    "- Can be extended to more complex systems like hospitals, banks, or chat support\n",
    "\n",
    "---\n",
    "\n",
    "> 💡 This project helped me understand how simulation, statistics, and operations research can be applied to **solve real business problems efficiently.**\n",
    "\n"
   ]
  },
  {
   "cell_type": "code",
   "execution_count": null,
   "id": "eaf64b25-a223-4497-ab49-7133b2ce5b23",
   "metadata": {},
   "outputs": [],
   "source": []
  }
 ],
 "metadata": {
  "kernelspec": {
   "display_name": "Python [conda env:base] *",
   "language": "python",
   "name": "conda-base-py"
  },
  "language_info": {
   "codemirror_mode": {
    "name": "ipython",
    "version": 3
   },
   "file_extension": ".py",
   "mimetype": "text/x-python",
   "name": "python",
   "nbconvert_exporter": "python",
   "pygments_lexer": "ipython3",
   "version": "3.12.7"
  }
 },
 "nbformat": 4,
 "nbformat_minor": 5
}
